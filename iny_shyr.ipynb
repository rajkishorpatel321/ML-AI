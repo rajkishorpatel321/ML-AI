{
 "cells": [
  {
   "cell_type": "code",
   "execution_count": 1,
   "id": "d368e730",
   "metadata": {},
   "outputs": [],
   "source": [
    "import yfinance as yf\n",
    "import matplotlib.pyplot as plt"
   ]
  },
  {
   "cell_type": "code",
   "execution_count": 2,
   "id": "c4892315",
   "metadata": {},
   "outputs": [],
   "source": [
    "#See the yahoo finance ticker for your stock symbol\n",
    "stock_symbol = 'INFY.NS'"
   ]
  },
  {
   "cell_type": "code",
   "execution_count": 3,
   "id": "c1ef3799",
   "metadata": {},
   "outputs": [
    {
     "name": "stdout",
     "output_type": "stream",
     "text": [
      "[*********************100%***********************]  1 of 1 completed\n"
     ]
    }
   ],
   "source": [
    "#last 5 years data with interval of 1 day\n",
    "data = yf.download(tickers=stock_symbol,period='5y',interval='1d')"
   ]
  },
  {
   "cell_type": "code",
   "execution_count": 4,
   "id": "7d4eac32",
   "metadata": {},
   "outputs": [
    {
     "data": {
      "text/plain": [
       "pandas.core.frame.DataFrame"
      ]
     },
     "execution_count": 4,
     "metadata": {},
     "output_type": "execute_result"
    }
   ],
   "source": [
    "type(data)"
   ]
  },
  {
   "cell_type": "code",
   "execution_count": 5,
   "id": "a2716b9c",
   "metadata": {},
   "outputs": [
    {
     "data": {
      "text/html": [
       "<div>\n",
       "<style scoped>\n",
       "    .dataframe tbody tr th:only-of-type {\n",
       "        vertical-align: middle;\n",
       "    }\n",
       "\n",
       "    .dataframe tbody tr th {\n",
       "        vertical-align: top;\n",
       "    }\n",
       "\n",
       "    .dataframe thead th {\n",
       "        text-align: right;\n",
       "    }\n",
       "</style>\n",
       "<table border=\"1\" class=\"dataframe\">\n",
       "  <thead>\n",
       "    <tr style=\"text-align: right;\">\n",
       "      <th></th>\n",
       "      <th>Open</th>\n",
       "      <th>High</th>\n",
       "      <th>Low</th>\n",
       "      <th>Close</th>\n",
       "      <th>Adj Close</th>\n",
       "      <th>Volume</th>\n",
       "    </tr>\n",
       "    <tr>\n",
       "      <th>Date</th>\n",
       "      <th></th>\n",
       "      <th></th>\n",
       "      <th></th>\n",
       "      <th></th>\n",
       "      <th></th>\n",
       "      <th></th>\n",
       "    </tr>\n",
       "  </thead>\n",
       "  <tbody>\n",
       "    <tr>\n",
       "      <th>2017-12-05</th>\n",
       "      <td>492.674988</td>\n",
       "      <td>501.500000</td>\n",
       "      <td>489.500000</td>\n",
       "      <td>492.174988</td>\n",
       "      <td>433.750702</td>\n",
       "      <td>9976738</td>\n",
       "    </tr>\n",
       "    <tr>\n",
       "      <th>2017-12-06</th>\n",
       "      <td>492.500000</td>\n",
       "      <td>497.049988</td>\n",
       "      <td>492.000000</td>\n",
       "      <td>495.149994</td>\n",
       "      <td>436.372559</td>\n",
       "      <td>7490094</td>\n",
       "    </tr>\n",
       "    <tr>\n",
       "      <th>2017-12-07</th>\n",
       "      <td>494.500000</td>\n",
       "      <td>501.450012</td>\n",
       "      <td>492.799988</td>\n",
       "      <td>499.899994</td>\n",
       "      <td>440.558746</td>\n",
       "      <td>7549544</td>\n",
       "    </tr>\n",
       "    <tr>\n",
       "      <th>2017-12-08</th>\n",
       "      <td>500.500000</td>\n",
       "      <td>503.500000</td>\n",
       "      <td>497.500000</td>\n",
       "      <td>500.924988</td>\n",
       "      <td>441.462036</td>\n",
       "      <td>5983244</td>\n",
       "    </tr>\n",
       "    <tr>\n",
       "      <th>2017-12-11</th>\n",
       "      <td>497.475006</td>\n",
       "      <td>503.450012</td>\n",
       "      <td>496.975006</td>\n",
       "      <td>502.649994</td>\n",
       "      <td>442.982239</td>\n",
       "      <td>5139098</td>\n",
       "    </tr>\n",
       "  </tbody>\n",
       "</table>\n",
       "</div>"
      ],
      "text/plain": [
       "                  Open        High         Low       Close   Adj Close  \\\n",
       "Date                                                                     \n",
       "2017-12-05  492.674988  501.500000  489.500000  492.174988  433.750702   \n",
       "2017-12-06  492.500000  497.049988  492.000000  495.149994  436.372559   \n",
       "2017-12-07  494.500000  501.450012  492.799988  499.899994  440.558746   \n",
       "2017-12-08  500.500000  503.500000  497.500000  500.924988  441.462036   \n",
       "2017-12-11  497.475006  503.450012  496.975006  502.649994  442.982239   \n",
       "\n",
       "             Volume  \n",
       "Date                 \n",
       "2017-12-05  9976738  \n",
       "2017-12-06  7490094  \n",
       "2017-12-07  7549544  \n",
       "2017-12-08  5983244  \n",
       "2017-12-11  5139098  "
      ]
     },
     "execution_count": 5,
     "metadata": {},
     "output_type": "execute_result"
    }
   ],
   "source": [
    "data.head()"
   ]
  },
  {
   "cell_type": "code",
   "execution_count": 6,
   "id": "a2fd39a0",
   "metadata": {},
   "outputs": [
    {
     "data": {
      "text/plain": [
       "1235"
      ]
     },
     "execution_count": 6,
     "metadata": {},
     "output_type": "execute_result"
    }
   ],
   "source": [
    "len(data)"
   ]
  },
  {
   "cell_type": "code",
   "execution_count": 7,
   "id": "6de844f0",
   "metadata": {},
   "outputs": [
    {
     "data": {
      "text/html": [
       "<div>\n",
       "<style scoped>\n",
       "    .dataframe tbody tr th:only-of-type {\n",
       "        vertical-align: middle;\n",
       "    }\n",
       "\n",
       "    .dataframe tbody tr th {\n",
       "        vertical-align: top;\n",
       "    }\n",
       "\n",
       "    .dataframe thead th {\n",
       "        text-align: right;\n",
       "    }\n",
       "</style>\n",
       "<table border=\"1\" class=\"dataframe\">\n",
       "  <thead>\n",
       "    <tr style=\"text-align: right;\">\n",
       "      <th></th>\n",
       "      <th>Open</th>\n",
       "      <th>High</th>\n",
       "      <th>Low</th>\n",
       "      <th>Close</th>\n",
       "      <th>Adj Close</th>\n",
       "      <th>Volume</th>\n",
       "    </tr>\n",
       "    <tr>\n",
       "      <th>Date</th>\n",
       "      <th></th>\n",
       "      <th></th>\n",
       "      <th></th>\n",
       "      <th></th>\n",
       "      <th></th>\n",
       "      <th></th>\n",
       "    </tr>\n",
       "  </thead>\n",
       "  <tbody>\n",
       "    <tr>\n",
       "      <th>2022-11-29</th>\n",
       "      <td>1621.199951</td>\n",
       "      <td>1638.750000</td>\n",
       "      <td>1615.050049</td>\n",
       "      <td>1629.050049</td>\n",
       "      <td>1629.050049</td>\n",
       "      <td>3131710</td>\n",
       "    </tr>\n",
       "    <tr>\n",
       "      <th>2022-11-30</th>\n",
       "      <td>1619.949951</td>\n",
       "      <td>1645.750000</td>\n",
       "      <td>1613.150024</td>\n",
       "      <td>1634.949951</td>\n",
       "      <td>1634.949951</td>\n",
       "      <td>11868134</td>\n",
       "    </tr>\n",
       "    <tr>\n",
       "      <th>2022-12-01</th>\n",
       "      <td>1656.199951</td>\n",
       "      <td>1672.599976</td>\n",
       "      <td>1652.300049</td>\n",
       "      <td>1657.099976</td>\n",
       "      <td>1657.099976</td>\n",
       "      <td>5407928</td>\n",
       "    </tr>\n",
       "    <tr>\n",
       "      <th>2022-12-02</th>\n",
       "      <td>1656.000000</td>\n",
       "      <td>1661.800049</td>\n",
       "      <td>1633.949951</td>\n",
       "      <td>1637.900024</td>\n",
       "      <td>1637.900024</td>\n",
       "      <td>4283343</td>\n",
       "    </tr>\n",
       "    <tr>\n",
       "      <th>2022-12-05</th>\n",
       "      <td>1638.000000</td>\n",
       "      <td>1644.849976</td>\n",
       "      <td>1623.300049</td>\n",
       "      <td>1639.750000</td>\n",
       "      <td>1639.750000</td>\n",
       "      <td>3824595</td>\n",
       "    </tr>\n",
       "  </tbody>\n",
       "</table>\n",
       "</div>"
      ],
      "text/plain": [
       "                   Open         High          Low        Close    Adj Close  \\\n",
       "Date                                                                          \n",
       "2022-11-29  1621.199951  1638.750000  1615.050049  1629.050049  1629.050049   \n",
       "2022-11-30  1619.949951  1645.750000  1613.150024  1634.949951  1634.949951   \n",
       "2022-12-01  1656.199951  1672.599976  1652.300049  1657.099976  1657.099976   \n",
       "2022-12-02  1656.000000  1661.800049  1633.949951  1637.900024  1637.900024   \n",
       "2022-12-05  1638.000000  1644.849976  1623.300049  1639.750000  1639.750000   \n",
       "\n",
       "              Volume  \n",
       "Date                  \n",
       "2022-11-29   3131710  \n",
       "2022-11-30  11868134  \n",
       "2022-12-01   5407928  \n",
       "2022-12-02   4283343  \n",
       "2022-12-05   3824595  "
      ]
     },
     "execution_count": 7,
     "metadata": {},
     "output_type": "execute_result"
    }
   ],
   "source": [
    "data.tail()"
   ]
  },
  {
   "cell_type": "code",
   "execution_count": 8,
   "id": "fea4eece",
   "metadata": {},
   "outputs": [],
   "source": [
    "opn = data[['Open']]"
   ]
  },
  {
   "cell_type": "code",
   "execution_count": 9,
   "id": "a44d1161",
   "metadata": {},
   "outputs": [
    {
     "data": {
      "text/plain": [
       "<AxesSubplot:xlabel='Date'>"
      ]
     },
     "execution_count": 9,
     "metadata": {},
     "output_type": "execute_result"
    },
    {
     "data": {
      "image/png": "[encoded data removed]",
      "text/plain": [
       "<Figure size 432x288 with 1 Axes>"
      ]
     },
     "metadata": {
      "needs_background": "light"
     },
     "output_type": "display_data"
    }
   ],
   "source": [
    "opn.plot()"
   ]
  },
  {
   "cell_type": "code",
   "execution_count": 10,
   "id": "274d6e48",
   "metadata": {},
   "outputs": [],
   "source": [
    "ds = opn.values"
   ]
  },
  {
   "cell_type": "code",
   "execution_count": 11,
   "id": "e7f3a807",
   "metadata": {},
   "outputs": [
    {
     "data": {
      "text/plain": [
       "array([[ 492.67498779],\n",
       "       [ 492.5       ],\n",
       "       [ 494.5       ],\n",
       "       ...,\n",
       "       [1656.19995117],\n",
       "       [1656.        ],\n",
       "       [1638.        ]])"
      ]
     },
     "execution_count": 11,
     "metadata": {},
     "output_type": "execute_result"
    }
   ],
   "source": [
    "ds"
   ]
  },
  {
   "cell_type": "code",
   "execution_count": 12,
   "id": "e21811c6",
   "metadata": {},
   "outputs": [
    {
     "data": {
      "text/plain": [
       "[<matplotlib.lines.Line2D at 0x236bfc59340>]"
      ]
     },
     "execution_count": 12,
     "metadata": {},
     "output_type": "execute_result"
    },
    {
     "data": {
      "image/png": "[encoded data removed]",
      "text/plain": [
       "<Figure size 432x288 with 1 Axes>"
      ]
     },
     "metadata": {
      "needs_background": "light"
     },
     "output_type": "display_data"
    }
   ],
   "source": [
    "plt.plot(ds)"
   ]
  },
  {
   "cell_type": "code",
   "execution_count": 13,
   "id": "dfd2d0cd",
   "metadata": {},
   "outputs": [],
   "source": [
    "import numpy as np"
   ]
  },
  {
   "cell_type": "code",
   "execution_count": 14,
   "id": "e10dedb4",
   "metadata": {},
   "outputs": [],
   "source": [
    "from sklearn.preprocessing import MinMaxScaler"
   ]
  },
  {
   "cell_type": "code",
   "execution_count": 15,
   "id": "a940f2fe",
   "metadata": {},
   "outputs": [],
   "source": [
    "#Using MinMaxScaler for normalizing data between 0 & 1\n",
    "normalizer = MinMaxScaler(feature_range=(0,1))\n",
    "ds_scaled = normalizer.fit_transform(np.array(ds).reshape(-1,1))"
   ]
  },
  {
   "cell_type": "code",
   "execution_count": 16,
   "id": "dfa0bada",
   "metadata": {},
   "outputs": [
    {
     "data": {
      "text/plain": [
       "(1235, 1235)"
      ]
     },
     "execution_count": 16,
     "metadata": {},
     "output_type": "execute_result"
    }
   ],
   "source": [
    "len(ds_scaled), len(ds)"
   ]
  },
  {
   "cell_type": "code",
   "execution_count": 17,
   "id": "fbd90c7f",
   "metadata": {},
   "outputs": [],
   "source": [
    "#Defining test and train data sizes\n",
    "train_size = int(len(ds_scaled)*0.70)\n",
    "test_size = len(ds_scaled) - train_size"
   ]
  },
  {
   "cell_type": "code",
   "execution_count": 18,
   "id": "a950db98",
   "metadata": {},
   "outputs": [
    {
     "data": {
      "text/plain": [
       "(864, 371)"
      ]
     },
     "execution_count": 18,
     "metadata": {},
     "output_type": "execute_result"
    }
   ],
   "source": [
    "train_size,test_size"
   ]
  },
  {
   "cell_type": "code",
   "execution_count": 19,
   "id": "d399f4a7",
   "metadata": {},
   "outputs": [],
   "source": [
    "#Splitting data between train and test\n",
    "ds_train, ds_test = ds_scaled[0:train_size,:], ds_scaled[train_size:len(ds_scaled),:1]"
   ]
  },
  {
   "cell_type": "code",
   "execution_count": 20,
   "id": "0c6047b9",
   "metadata": {},
   "outputs": [
    {
     "data": {
      "text/plain": [
       "(864, 371)"
      ]
     },
     "execution_count": 20,
     "metadata": {},
     "output_type": "execute_result"
    }
   ],
   "source": [
    "len(ds_train),len(ds_test)"
   ]
  },
  {
   "cell_type": "code",
   "execution_count": 21,
   "id": "9c9ec0ff",
   "metadata": {},
   "outputs": [],
   "source": [
    "#creating dataset in time series for LSTM model \n",
    "#X[100,120,140,160,180] : Y[200]\n",
    "def create_ds(dataset,step):\n",
    "    Xtrain, Ytrain = [], []\n",
    "    for i in range(len(dataset)-step-1):\n",
    "        a = dataset[i:(i+step), 0]\n",
    "        Xtrain.append(a)\n",
    "        Ytrain.append(dataset[i + step, 0])\n",
    "    return np.array(Xtrain), np.array(Ytrain)"
   ]
  },
  {
   "cell_type": "code",
   "execution_count": 22,
   "id": "65487a86",
   "metadata": {},
   "outputs": [],
   "source": [
    "#Taking 100 days price as one record for training\n",
    "time_stamp = 100\n",
    "X_train, y_train = create_ds(ds_train,time_stamp)\n",
    "X_test, y_test = create_ds(ds_test,time_stamp)"
   ]
  },
  {
   "cell_type": "code",
   "execution_count": 23,
   "id": "5659a6f1",
   "metadata": {},
   "outputs": [
    {
     "data": {
      "text/plain": [
       "((763, 100), (763,))"
      ]
     },
     "execution_count": 23,
     "metadata": {},
     "output_type": "execute_result"
    }
   ],
   "source": [
    "X_train.shape,y_train.shape"
   ]
  },
  {
   "cell_type": "code",
   "execution_count": 24,
   "id": "34a9dcf7",
   "metadata": {},
   "outputs": [
    {
     "data": {
      "text/plain": [
       "((270, 100), (270,))"
      ]
     },
     "execution_count": 24,
     "metadata": {},
     "output_type": "execute_result"
    }
   ],
   "source": [
    "X_test.shape, y_test.shape"
   ]
  },
  {
   "cell_type": "code",
   "execution_count": 25,
   "id": "6e11b7c4",
   "metadata": {},
   "outputs": [],
   "source": [
    "#Reshaping data to fit into LSTM model\n",
    "X_train = X_train.reshape(X_train.shape[0],X_train.shape[1] , 1)\n",
    "X_test = X_test.reshape(X_test.shape[0],X_test.shape[1] , 1)"
   ]
  },
  {
   "cell_type": "code",
   "execution_count": 26,
   "id": "79445484",
   "metadata": {},
   "outputs": [],
   "source": [
    "from keras.models import Sequential\n",
    "from keras.layers import Dense, LSTM"
   ]
  },
  {
   "cell_type": "code",
   "execution_count": 27,
   "id": "8df1a7b1",
   "metadata": {},
   "outputs": [
    {
     "name": "stdout",
     "output_type": "stream",
     "text": [
      "Model: \"sequential\"\n",
      "_________________________________________________________________\n",
      " Layer (type)                Output Shape              Param #   \n",
      "=================================================================\n",
      " lstm (LSTM)                 (None, 100, 50)           10400     \n",
      "                                                                 \n",
      " lstm_1 (LSTM)               (None, 100, 50)           20200     \n",
      "                                                                 \n",
      " lstm_2 (LSTM)               (None, 50)                20200     \n",
      "                                                                 \n",
      " dense (Dense)               (None, 1)                 51        \n",
      "                                                                 \n",
      "=================================================================\n",
      "Total params: 50,851\n",
      "Trainable params: 50,851\n",
      "Non-trainable params: 0\n",
      "_________________________________________________________________\n"
     ]
    }
   ],
   "source": [
    "#Creating LSTM model using keras\n",
    "model = Sequential()\n",
    "model.add(LSTM(units=50,return_sequences=True,input_shape=(X_train.shape[1],1)))\n",
    "model.add(LSTM(units=50,return_sequences=True))\n",
    "model.add(LSTM(units=50))\n",
    "model.add(Dense(units=1,activation='linear'))\n",
    "model.summary()\n"
   ]
  },
  {
   "cell_type": "code",
   "execution_count": 28,
   "id": "e7607612",
   "metadata": {},
   "outputs": [
    {
     "name": "stdout",
     "output_type": "stream",
     "text": [
      "Epoch 1/100\n",
      "12/12 [==============================] - 11s 337ms/step - loss: 0.0222 - val_loss: 0.0820\n",
      "Epoch 2/100\n",
      "12/12 [==============================] - 2s 176ms/step - loss: 0.0057 - val_loss: 0.0069\n",
      "Epoch 3/100\n",
      "12/12 [==============================] - 2s 174ms/step - loss: 0.0017 - val_loss: 0.0066\n",
      "Epoch 4/100\n",
      "12/12 [==============================] - 2s 170ms/step - loss: 0.0013 - val_loss: 0.0036\n",
      "Epoch 5/100\n",
      "12/12 [==============================] - 2s 167ms/step - loss: 0.0011 - val_loss: 0.0040\n",
      "Epoch 6/100\n",
      "12/12 [==============================] - 2s 197ms/step - loss: 9.9515e-04 - val_loss: 0.0035\n",
      "Epoch 7/100\n",
      "12/12 [==============================] - 2s 180ms/step - loss: 9.6140e-04 - val_loss: 0.0035\n",
      "Epoch 8/100\n",
      "12/12 [==============================] - 2s 180ms/step - loss: 9.5036e-04 - val_loss: 0.0033\n",
      "Epoch 9/100\n",
      "12/12 [==============================] - 2s 183ms/step - loss: 9.2707e-04 - val_loss: 0.0033\n",
      "Epoch 10/100\n",
      "12/12 [==============================] - 2s 182ms/step - loss: 9.1578e-04 - val_loss: 0.0033\n",
      "Epoch 11/100\n",
      "12/12 [==============================] - 2s 182ms/step - loss: 9.0832e-04 - val_loss: 0.0031\n",
      "Epoch 12/100\n",
      "12/12 [==============================] - 2s 178ms/step - loss: 8.9983e-04 - val_loss: 0.0031\n",
      "Epoch 13/100\n",
      "12/12 [==============================] - 2s 179ms/step - loss: 8.8009e-04 - val_loss: 0.0030\n",
      "Epoch 14/100\n",
      "12/12 [==============================] - 2s 189ms/step - loss: 8.5468e-04 - val_loss: 0.0030\n",
      "Epoch 15/100\n",
      "12/12 [==============================] - 2s 179ms/step - loss: 8.4156e-04 - val_loss: 0.0029\n",
      "Epoch 16/100\n",
      "12/12 [==============================] - 2s 190ms/step - loss: 8.3267e-04 - val_loss: 0.0028\n",
      "Epoch 17/100\n",
      "12/12 [==============================] - 11s 1s/step - loss: 8.4657e-04 - val_loss: 0.0038\n",
      "Epoch 18/100\n",
      "12/12 [==============================] - 3s 244ms/step - loss: 8.6883e-04 - val_loss: 0.0027\n",
      "Epoch 19/100\n",
      "12/12 [==============================] - 3s 228ms/step - loss: 8.9934e-04 - val_loss: 0.0045\n",
      "Epoch 20/100\n",
      "12/12 [==============================] - 2s 208ms/step - loss: 9.9177e-04 - val_loss: 0.0025\n",
      "Epoch 21/100\n",
      "12/12 [==============================] - 3s 256ms/step - loss: 9.1601e-04 - val_loss: 0.0032\n",
      "Epoch 22/100\n",
      "12/12 [==============================] - 3s 241ms/step - loss: 8.2657e-04 - val_loss: 0.0031\n",
      "Epoch 23/100\n",
      "12/12 [==============================] - 3s 218ms/step - loss: 7.4038e-04 - val_loss: 0.0024\n",
      "Epoch 24/100\n",
      "12/12 [==============================] - 2s 198ms/step - loss: 7.3786e-04 - val_loss: 0.0025\n",
      "Epoch 25/100\n",
      "12/12 [==============================] - 2s 206ms/step - loss: 7.1064e-04 - val_loss: 0.0023\n",
      "Epoch 26/100\n",
      "12/12 [==============================] - 2s 211ms/step - loss: 7.2960e-04 - val_loss: 0.0025\n",
      "Epoch 27/100\n",
      "12/12 [==============================] - 3s 234ms/step - loss: 7.2794e-04 - val_loss: 0.0022\n",
      "Epoch 28/100\n",
      "12/12 [==============================] - 2s 195ms/step - loss: 6.8089e-04 - val_loss: 0.0021\n",
      "Epoch 29/100\n",
      "12/12 [==============================] - 2s 200ms/step - loss: 6.5314e-04 - val_loss: 0.0022\n",
      "Epoch 30/100\n",
      "12/12 [==============================] - 2s 202ms/step - loss: 6.6011e-04 - val_loss: 0.0020\n",
      "Epoch 31/100\n",
      "12/12 [==============================] - 2s 192ms/step - loss: 6.5960e-04 - val_loss: 0.0024\n",
      "Epoch 32/100\n",
      "12/12 [==============================] - 2s 197ms/step - loss: 6.4198e-04 - val_loss: 0.0022\n",
      "Epoch 33/100\n",
      "12/12 [==============================] - 2s 185ms/step - loss: 6.2694e-04 - val_loss: 0.0019\n",
      "Epoch 34/100\n",
      "12/12 [==============================] - 2s 181ms/step - loss: 6.1036e-04 - val_loss: 0.0019\n",
      "Epoch 35/100\n",
      "12/12 [==============================] - 2s 201ms/step - loss: 6.1922e-04 - val_loss: 0.0021\n",
      "Epoch 36/100\n",
      "12/12 [==============================] - 2s 197ms/step - loss: 6.0239e-04 - val_loss: 0.0018\n",
      "Epoch 37/100\n",
      "12/12 [==============================] - 4s 335ms/step - loss: 6.1408e-04 - val_loss: 0.0026\n",
      "Epoch 38/100\n",
      "12/12 [==============================] - 4s 358ms/step - loss: 5.8534e-04 - val_loss: 0.0017\n",
      "Epoch 39/100\n",
      "12/12 [==============================] - 3s 285ms/step - loss: 5.8855e-04 - val_loss: 0.0019\n",
      "Epoch 40/100\n",
      "12/12 [==============================] - 3s 259ms/step - loss: 5.9018e-04 - val_loss: 0.0016\n",
      "Epoch 41/100\n",
      "12/12 [==============================] - 3s 210ms/step - loss: 5.7120e-04 - val_loss: 0.0016\n",
      "Epoch 42/100\n",
      "12/12 [==============================] - 3s 248ms/step - loss: 5.4408e-04 - val_loss: 0.0016\n",
      "Epoch 43/100\n",
      "12/12 [==============================] - 2s 203ms/step - loss: 5.5931e-04 - val_loss: 0.0016\n",
      "Epoch 44/100\n",
      "12/12 [==============================] - 2s 207ms/step - loss: 5.3378e-04 - val_loss: 0.0015\n",
      "Epoch 45/100\n",
      "12/12 [==============================] - 2s 199ms/step - loss: 5.2947e-04 - val_loss: 0.0015\n",
      "Epoch 46/100\n",
      "12/12 [==============================] - 2s 202ms/step - loss: 5.6526e-04 - val_loss: 0.0022\n",
      "Epoch 47/100\n",
      "12/12 [==============================] - 2s 198ms/step - loss: 5.8764e-04 - val_loss: 0.0015\n",
      "Epoch 48/100\n",
      "12/12 [==============================] - 2s 200ms/step - loss: 5.1631e-04 - val_loss: 0.0019\n",
      "Epoch 49/100\n",
      "12/12 [==============================] - 2s 203ms/step - loss: 5.0623e-04 - val_loss: 0.0019\n",
      "Epoch 50/100\n",
      "12/12 [==============================] - 3s 210ms/step - loss: 5.1342e-04 - val_loss: 0.0018\n",
      "Epoch 51/100\n",
      "12/12 [==============================] - 2s 203ms/step - loss: 5.0922e-04 - val_loss: 0.0014\n",
      "Epoch 52/100\n",
      "12/12 [==============================] - 2s 207ms/step - loss: 4.8288e-04 - val_loss: 0.0015\n",
      "Epoch 53/100\n",
      "12/12 [==============================] - 2s 184ms/step - loss: 4.8165e-04 - val_loss: 0.0015\n",
      "Epoch 54/100\n",
      "12/12 [==============================] - 2s 198ms/step - loss: 5.0393e-04 - val_loss: 0.0015\n",
      "Epoch 55/100\n",
      "12/12 [==============================] - 2s 179ms/step - loss: 4.8753e-04 - val_loss: 0.0015\n",
      "Epoch 56/100\n",
      "12/12 [==============================] - 3s 211ms/step - loss: 4.7195e-04 - val_loss: 0.0016\n",
      "Epoch 57/100\n",
      "12/12 [==============================] - 3s 221ms/step - loss: 4.7761e-04 - val_loss: 0.0013\n",
      "Epoch 58/100\n",
      "12/12 [==============================] - 3s 258ms/step - loss: 4.7328e-04 - val_loss: 0.0017\n",
      "Epoch 59/100\n",
      "12/12 [==============================] - 2s 195ms/step - loss: 4.7538e-04 - val_loss: 0.0016\n",
      "Epoch 60/100\n",
      "12/12 [==============================] - 2s 181ms/step - loss: 4.5128e-04 - val_loss: 0.0013\n",
      "Epoch 61/100\n",
      "12/12 [==============================] - 2s 182ms/step - loss: 4.4515e-04 - val_loss: 0.0017\n",
      "Epoch 62/100\n",
      "12/12 [==============================] - 2s 182ms/step - loss: 4.5172e-04 - val_loss: 0.0013\n",
      "Epoch 63/100\n",
      "12/12 [==============================] - 2s 187ms/step - loss: 4.7798e-04 - val_loss: 0.0013\n",
      "Epoch 64/100\n",
      "12/12 [==============================] - 2s 210ms/step - loss: 4.5497e-04 - val_loss: 0.0019\n",
      "Epoch 65/100\n",
      "12/12 [==============================] - 2s 209ms/step - loss: 4.8837e-04 - val_loss: 0.0013\n",
      "Epoch 66/100\n",
      "12/12 [==============================] - 2s 192ms/step - loss: 4.2282e-04 - val_loss: 0.0012\n",
      "Epoch 67/100\n",
      "12/12 [==============================] - 2s 191ms/step - loss: 4.4013e-04 - val_loss: 0.0014\n",
      "Epoch 68/100\n",
      "12/12 [==============================] - 2s 179ms/step - loss: 4.7238e-04 - val_loss: 0.0016\n",
      "Epoch 69/100\n",
      "12/12 [==============================] - 3s 214ms/step - loss: 4.2709e-04 - val_loss: 0.0012\n",
      "Epoch 70/100\n",
      "12/12 [==============================] - 2s 202ms/step - loss: 4.2644e-04 - val_loss: 0.0011\n",
      "Epoch 71/100\n",
      "12/12 [==============================] - 3s 220ms/step - loss: 4.2645e-04 - val_loss: 0.0015\n",
      "Epoch 72/100\n",
      "12/12 [==============================] - 3s 219ms/step - loss: 4.4250e-04 - val_loss: 0.0011\n",
      "Epoch 73/100\n",
      "12/12 [==============================] - 2s 188ms/step - loss: 4.1263e-04 - val_loss: 0.0018\n",
      "Epoch 74/100\n",
      "12/12 [==============================] - 2s 178ms/step - loss: 3.9559e-04 - val_loss: 0.0013\n",
      "Epoch 75/100\n",
      "12/12 [==============================] - 2s 184ms/step - loss: 4.1092e-04 - val_loss: 0.0011\n",
      "Epoch 76/100\n",
      "12/12 [==============================] - 2s 183ms/step - loss: 3.7901e-04 - val_loss: 0.0011\n",
      "Epoch 77/100\n",
      "12/12 [==============================] - 2s 175ms/step - loss: 3.6757e-04 - val_loss: 0.0011\n",
      "Epoch 78/100\n",
      "12/12 [==============================] - 2s 193ms/step - loss: 3.5394e-04 - val_loss: 0.0012\n",
      "Epoch 79/100\n",
      "12/12 [==============================] - 2s 181ms/step - loss: 3.4946e-04 - val_loss: 0.0013\n",
      "Epoch 80/100\n",
      "12/12 [==============================] - 2s 183ms/step - loss: 3.9034e-04 - val_loss: 9.7666e-04\n",
      "Epoch 81/100\n",
      "12/12 [==============================] - 2s 191ms/step - loss: 3.9422e-04 - val_loss: 0.0010\n",
      "Epoch 82/100\n",
      "12/12 [==============================] - 3s 255ms/step - loss: 3.6898e-04 - val_loss: 0.0010\n",
      "Epoch 83/100\n",
      "12/12 [==============================] - 3s 227ms/step - loss: 3.3227e-04 - val_loss: 9.3511e-04\n",
      "Epoch 84/100\n",
      "12/12 [==============================] - 2s 204ms/step - loss: 3.4146e-04 - val_loss: 0.0010\n",
      "Epoch 85/100\n",
      "12/12 [==============================] - 2s 180ms/step - loss: 3.1446e-04 - val_loss: 9.0520e-04\n",
      "Epoch 86/100\n",
      "12/12 [==============================] - 3s 229ms/step - loss: 3.4988e-04 - val_loss: 0.0012\n",
      "Epoch 87/100\n",
      "12/12 [==============================] - 4s 338ms/step - loss: 3.7879e-04 - val_loss: 0.0015\n",
      "Epoch 88/100\n",
      "12/12 [==============================] - 5s 414ms/step - loss: 3.3430e-04 - val_loss: 0.0011\n",
      "Epoch 89/100\n",
      "12/12 [==============================] - 5s 391ms/step - loss: 3.1433e-04 - val_loss: 0.0011\n",
      "Epoch 90/100\n",
      "12/12 [==============================] - 4s 379ms/step - loss: 3.5014e-04 - val_loss: 0.0016\n",
      "Epoch 91/100\n",
      "12/12 [==============================] - 3s 271ms/step - loss: 3.5346e-04 - val_loss: 0.0019\n",
      "Epoch 92/100\n",
      "12/12 [==============================] - 4s 325ms/step - loss: 2.9710e-04 - val_loss: 8.7390e-04\n",
      "Epoch 93/100\n",
      "12/12 [==============================] - 3s 279ms/step - loss: 3.0412e-04 - val_loss: 0.0012\n",
      "Epoch 94/100\n",
      "12/12 [==============================] - 4s 371ms/step - loss: 3.0669e-04 - val_loss: 0.0011\n",
      "Epoch 95/100\n",
      "12/12 [==============================] - 3s 252ms/step - loss: 2.8557e-04 - val_loss: 8.6997e-04\n",
      "Epoch 96/100\n",
      "12/12 [==============================] - 5s 463ms/step - loss: 2.7592e-04 - val_loss: 0.0012\n",
      "Epoch 97/100\n",
      "12/12 [==============================] - 6s 488ms/step - loss: 2.7205e-04 - val_loss: 7.3974e-04\n",
      "Epoch 98/100\n",
      "12/12 [==============================] - 5s 372ms/step - loss: 2.7991e-04 - val_loss: 7.1216e-04\n",
      "Epoch 99/100\n",
      "12/12 [==============================] - 4s 353ms/step - loss: 3.2916e-04 - val_loss: 7.9590e-04\n",
      "Epoch 100/100\n",
      "12/12 [==============================] - 5s 386ms/step - loss: 3.1725e-04 - val_loss: 7.2045e-04\n"
     ]
    },
    {
     "data": {
      "text/plain": [
       "<keras.callbacks.History at 0x236cb380a90>"
      ]
     },
     "execution_count": 28,
     "metadata": {},
     "output_type": "execute_result"
    }
   ],
   "source": [
    "#Training model with adam optimizer and mean squared error loss function\n",
    "model.compile(loss='mean_squared_error',optimizer='adam')\n",
    "model.fit(X_train,y_train,validation_data=(X_test,y_test),epochs=100,batch_size=64)\n"
   ]
  },
  {
   "cell_type": "code",
   "execution_count": 29,
   "id": "1bfc0768",
   "metadata": {},
   "outputs": [
    {
     "data": {
      "text/plain": [
       "[<matplotlib.lines.Line2D at 0x236d2a7c730>]"
      ]
     },
     "execution_count": 29,
     "metadata": {},
     "output_type": "execute_result"
    },
    {
     "data": {
      "image/png": "[encoded data removed]",
      "text/plain": [
       "<Figure size 432x288 with 1 Axes>"
      ]
     },
     "metadata": {
      "needs_background": "light"
     },
     "output_type": "display_data"
    }
   ],
   "source": [
    "#PLotting loss, it shows that loss has decreased significantly and model trained well\n",
    "loss = model.history.history['loss']\n",
    "plt.plot(loss)"
   ]
  },
  {
   "cell_type": "code",
   "execution_count": 30,
   "id": "3eeaae43",
   "metadata": {},
   "outputs": [
    {
     "name": "stdout",
     "output_type": "stream",
     "text": [
      "24/24 [==============================] - 7s 60ms/step\n",
      "9/9 [==============================] - 0s 53ms/step\n"
     ]
    }
   ],
   "source": [
    "#Predicitng on train and test data\n",
    "train_predict = model.predict(X_train)\n",
    "test_predict = model.predict(X_test)"
   ]
  },
  {
   "cell_type": "code",
   "execution_count": 31,
   "id": "39339cc2",
   "metadata": {},
   "outputs": [],
   "source": [
    "#Inverse transform to get actual value\n",
    "train_predict = normalizer.inverse_transform(train_predict)\n",
    "test_predict = normalizer.inverse_transform(test_predict)\n"
   ]
  },
  {
   "cell_type": "code",
   "execution_count": 32,
   "id": "cf3df342",
   "metadata": {},
   "outputs": [
    {
     "data": {
      "text/plain": [
       "[<matplotlib.lines.Line2D at 0x236d6086400>]"
      ]
     },
     "execution_count": 32,
     "metadata": {},
     "output_type": "execute_result"
    },
    {
     "data": {
      "image/png": "[encoded data removed]",
      "text/plain": [
       "<Figure size 432x288 with 1 Axes>"
      ]
     },
     "metadata": {
      "needs_background": "light"
     },
     "output_type": "display_data"
    }
   ],
   "source": [
    "#Comparing using visuals\n",
    "plt.plot(normalizer.inverse_transform(ds_scaled))\n",
    "plt.plot(train_predict)\n",
    "plt.plot(test_predict)\n"
   ]
  },
  {
   "cell_type": "code",
   "execution_count": 33,
   "id": "5732758a",
   "metadata": {},
   "outputs": [
    {
     "data": {
      "text/plain": [
       "numpy.ndarray"
      ]
     },
     "execution_count": 33,
     "metadata": {},
     "output_type": "execute_result"
    }
   ],
   "source": [
    "type(train_predict)\n"
   ]
  },
  {
   "cell_type": "code",
   "execution_count": 34,
   "id": "1b8a3436",
   "metadata": {},
   "outputs": [],
   "source": [
    "test = np.vstack((train_predict,test_predict))"
   ]
  },
  {
   "cell_type": "code",
   "execution_count": 35,
   "id": "21b89979",
   "metadata": {},
   "outputs": [
    {
     "data": {
      "text/plain": [
       "[<matplotlib.lines.Line2D at 0x236d5fe00a0>]"
      ]
     },
     "execution_count": 35,
     "metadata": {},
     "output_type": "execute_result"
    },
    {
     "data": {
      "image/png": "[encoded data removed]",
      "text/plain": [
       "<Figure size 432x288 with 1 Axes>"
      ]
     },
     "metadata": {
      "needs_background": "light"
     },
     "output_type": "display_data"
    }
   ],
   "source": [
    "#Combining the predited data to create uniform data visualization\n",
    "plt.plot(normalizer.inverse_transform(ds_scaled))\n",
    "plt.plot(test)\n"
   ]
  },
  {
   "cell_type": "code",
   "execution_count": 36,
   "id": "8b768996",
   "metadata": {},
   "outputs": [
    {
     "data": {
      "text/plain": [
       "371"
      ]
     },
     "execution_count": 36,
     "metadata": {},
     "output_type": "execute_result"
    }
   ],
   "source": [
    "len(ds_test)\n"
   ]
  },
  {
   "cell_type": "code",
   "execution_count": 37,
   "id": "15b5eafb",
   "metadata": {},
   "outputs": [],
   "source": [
    "#Getting the last 100 days records\n",
    "fut_inp = ds_test[270:]"
   ]
  },
  {
   "cell_type": "code",
   "execution_count": 38,
   "id": "d516729a",
   "metadata": {},
   "outputs": [],
   "source": [
    "fut_inp = fut_inp.reshape(1,-1)"
   ]
  },
  {
   "cell_type": "code",
   "execution_count": 39,
   "id": "12f39f2a",
   "metadata": {},
   "outputs": [],
   "source": [
    "tmp_inp = list(fut_inp)\n"
   ]
  },
  {
   "cell_type": "code",
   "execution_count": 40,
   "id": "bafdc6e7",
   "metadata": {},
   "outputs": [
    {
     "data": {
      "text/plain": [
       "(1, 101)"
      ]
     },
     "execution_count": 40,
     "metadata": {},
     "output_type": "execute_result"
    }
   ],
   "source": [
    "fut_inp.shape\n"
   ]
  },
  {
   "cell_type": "code",
   "execution_count": 41,
   "id": "113200bb",
   "metadata": {},
   "outputs": [],
   "source": [
    "#Creating list of the last 100 data\n",
    "tmp_inp = tmp_inp[0].tolist()"
   ]
  },
  {
   "cell_type": "code",
   "execution_count": 42,
   "id": "ca611fd4",
   "metadata": {},
   "outputs": [
    {
     "name": "stdout",
     "output_type": "stream",
     "text": [
      "[[0.7985761761665344], [0.7977359890937805], [0.7963379621505737], [0.7948675751686096], [0.7935174703598022], [0.7924112677574158], [0.7916386723518372], [0.7912496328353882], [0.7912513017654419], [0.7916152477264404], [0.7922858595848083], [0.7931925058364868], [0.7942585349082947], [0.7954090237617493], [0.7965783476829529], [0.7977132797241211], [0.7987741231918335], [0.7997378706932068], [0.80059415102005], [0.801344633102417], [0.8019993305206299], [0.802574634552002], [0.803089439868927], [0.8035639524459839], [0.8040159344673157], [0.8044599890708923], [0.804908037185669], [0.8053673505783081], [0.8058409094810486], [0.806329071521759]]\n"
     ]
    }
   ],
   "source": [
    "#Predicting next 30 days price suing the current data\n",
    "#It will predict in sliding window manner (algorithm) with stride 1\n",
    "lst_output=[]\n",
    "n_steps=100\n",
    "i=0\n",
    "while(i<30):\n",
    "    \n",
    "    if(len(tmp_inp)>100):\n",
    "        fut_inp = np.array(tmp_inp[1:])\n",
    "        fut_inp=fut_inp.reshape(1,-1)\n",
    "        fut_inp = fut_inp.reshape((1, n_steps, 1))\n",
    "        yhat = model.predict(fut_inp, verbose=0)\n",
    "        tmp_inp.extend(yhat[0].tolist())\n",
    "        tmp_inp = tmp_inp[1:]\n",
    "        lst_output.extend(yhat.tolist())\n",
    "        i=i+1\n",
    "    else:\n",
    "        fut_inp = fut_inp.reshape((1, n_steps,1))\n",
    "        yhat = model.predict(fut_inp, verbose=0)\n",
    "        tmp_inp.extend(yhat[0].tolist())\n",
    "        lst_output.extend(yhat.tolist())\n",
    "        i=i+1\n",
    "    \n",
    "\n",
    "print(lst_output)"
   ]
  },
  {
   "cell_type": "code",
   "execution_count": 43,
   "id": "2ad1dc66",
   "metadata": {},
   "outputs": [
    {
     "data": {
      "text/plain": [
       "1235"
      ]
     },
     "execution_count": 43,
     "metadata": {},
     "output_type": "execute_result"
    }
   ],
   "source": [
    "len(ds_scaled)"
   ]
  },
  {
   "cell_type": "code",
   "execution_count": 44,
   "id": "594ea670",
   "metadata": {},
   "outputs": [],
   "source": [
    "#Creating a dummy plane to plot graph one after another\n",
    "plot_new=np.arange(1,101)\n",
    "plot_pred=np.arange(101,131)"
   ]
  },
  {
   "cell_type": "code",
   "execution_count": null,
   "id": "e7a9457b",
   "metadata": {},
   "outputs": [],
   "source": []
  },
  {
   "cell_type": "code",
   "execution_count": 45,
   "id": "9399e22f",
   "metadata": {},
   "outputs": [],
   "source": [
    "ds_new = ds_scaled.tolist()"
   ]
  },
  {
   "cell_type": "code",
   "execution_count": 46,
   "id": "861ced86",
   "metadata": {},
   "outputs": [
    {
     "data": {
      "text/plain": [
       "1235"
      ]
     },
     "execution_count": 46,
     "metadata": {},
     "output_type": "execute_result"
    }
   ],
   "source": [
    "len(ds_new)\n"
   ]
  },
  {
   "cell_type": "code",
   "execution_count": 47,
   "id": "c59b9585",
   "metadata": {},
   "outputs": [
    {
     "data": {
      "text/plain": [
       "[<matplotlib.lines.Line2D at 0x236d60ac4f0>]"
      ]
     },
     "execution_count": 47,
     "metadata": {},
     "output_type": "execute_result"
    },
    {
     "data": {
      "image/png": "[encoded data removed]",
      "text/plain": [
       "<Figure size 432x288 with 1 Axes>"
      ]
     },
     "metadata": {
      "needs_background": "light"
     },
     "output_type": "display_data"
    }
   ],
   "source": [
    "#Entends helps us to fill the missing value with approx value\n",
    "ds_new.extend(lst_output)\n",
    "plt.plot(ds_new[1200:])\n"
   ]
  },
  {
   "cell_type": "code",
   "execution_count": 48,
   "id": "aa2cdd06",
   "metadata": {},
   "outputs": [],
   "source": [
    "#Creating final data for plotting\n",
    "final_graph = normalizer.inverse_transform(ds_new).tolist()\n"
   ]
  },
  {
   "cell_type": "code",
   "execution_count": 49,
   "id": "f88c57f6",
   "metadata": {},
   "outputs": [
    {
     "data": {
      "text/plain": [
       "<matplotlib.legend.Legend at 0x236d82a4b50>"
      ]
     },
     "execution_count": 49,
     "metadata": {},
     "output_type": "execute_result"
    },
    {
     "data": {
      "image/png": "[encoded data removed]",
      "text/plain": [
       "<Figure size 432x288 with 1 Axes>"
      ]
     },
     "metadata": {
      "needs_background": "light"
     },
     "output_type": "display_data"
    }
   ],
   "source": [
    "#Plotting final results with predicted value after 30 Days\n",
    "plt.plot(final_graph,)\n",
    "plt.ylabel(\"Price\")\n",
    "plt.xlabel(\"Time\")\n",
    "plt.title(\"{0} prediction of next month open\".format(stock_symbol))\n",
    "plt.axhline(y=final_graph[len(final_graph)-1], color = 'red', linestyle = ':', label = 'NEXT 30D: {0}'.format(round(float(*final_graph[len(final_graph)-1]),2)))\n",
    "plt.legend()"
   ]
  },
  {
   "cell_type": "code",
   "execution_count": 50,
   "id": "01d1a6c8",
   "metadata": {},
   "outputs": [
    {
     "name": "stdout",
     "output_type": "stream",
     "text": [
      "1265\n",
      "[1569.0]\n",
      "[1588.9000244140625]\n",
      "[1589.0000000000002]\n",
      "[1631.4000244140625]\n",
      "[1628.0]\n",
      "[1621.199951171875]\n",
      "[1619.9499511718752]\n",
      "[1656.1999511718748]\n",
      "[1655.9999999999998]\n",
      "[1638.0]\n",
      "[1647.2811185385945]\n",
      "[1646.066165981014]\n",
      "[1644.0445490515267]\n",
      "[1641.9182958844613]\n",
      "[1639.9659767597623]\n",
      "[1638.3663524325675]\n",
      "[1637.2491408086062]\n",
      "[1636.686570196849]\n",
      "[1636.6889835532347]\n",
      "[1637.2152676279075]\n",
      "[1638.185005938445]\n",
      "[1639.4960617949546]\n",
      "[1641.0375931862945]\n",
      "[1642.7012576490088]\n",
      "[1644.3921585623611]\n",
      "[1646.033327095909]\n",
      "[1647.5673598441936]\n",
      "[1648.9609869656124]\n",
      "[1650.1992111740547]\n",
      "[1651.284445825906]\n",
      "[1652.2311710594804]\n",
      "[1653.063089482137]\n",
      "[1653.8075237358134]\n",
      "[1654.4936926710361]\n",
      "[1655.1472812950524]\n",
      "[1655.7894064762368]\n",
      "[1656.4373064744868]\n",
      "[1657.10149662834]\n",
      "[1657.786286502771]\n",
      "[1658.4921932455763]\n"
     ]
    }
   ],
   "source": [
    "print(len(final_graph))\n",
    "for x in range (1225,1265):\n",
    "    print(final_graph[x]);  #infy"
   ]
  },
  {
   "cell_type": "code",
   "execution_count": 53,
   "id": "1ac0514d",
   "metadata": {},
   "outputs": [
    {
     "data": {
      "text/plain": [
       "[1658.4921932455763]"
      ]
     },
     "execution_count": 53,
     "metadata": {},
     "output_type": "execute_result"
    }
   ],
   "source": [
    "final_graph[1264]"
   ]
  },
  {
   "cell_type": "code",
   "execution_count": 51,
   "id": "c48240c2",
   "metadata": {},
   "outputs": [
    {
     "data": {
      "text/plain": [
       "list"
      ]
     },
     "execution_count": 51,
     "metadata": {},
     "output_type": "execute_result"
    }
   ],
   "source": []
  },
  {
   "cell_type": "code",
   "execution_count": null,
   "id": "9532c4b1",
   "metadata": {},
   "outputs": [],
   "source": []
  }
 ],
 "metadata": {
  "kernelspec": {
   "display_name": "Python 3 (ipykernel)",
   "language": "python",
   "name": "python3"
  },
  "language_info": {
   "codemirror_mode": {
    "name": "ipython",
    "version": 3
   },
   "file_extension": ".py",
   "mimetype": "text/x-python",
   "name": "python",
   "nbconvert_exporter": "python",
   "pygments_lexer": "ipython3",
   "version": "3.9.12"
  }
 },
 "nbformat": 4,
 "nbformat_minor": 5
}

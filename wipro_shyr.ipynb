{
 "cells": [
  {
   "cell_type": "code",
   "execution_count": 5,
   "id": "5d2843cb",
   "metadata": {},
   "outputs": [
    {
     "name": "stdout",
     "output_type": "stream",
     "text": [
      "  Symbol Series         Date  Prev Close  Open Price  High Price  Low Price  \\\n",
      "0  WIPRO     EQ  11-Jul-2022      419.10      414.75      415.00     405.55   \n",
      "1  WIPRO     EQ  12-Jul-2022      411.20      409.00      414.85     408.00   \n",
      "2  WIPRO     EQ  13-Jul-2022      409.15      412.00      412.00     405.35   \n",
      "3  WIPRO     EQ  14-Jul-2022      406.70      410.60      410.60     400.50   \n",
      "4  WIPRO     EQ  15-Jul-2022      401.45      400.95      404.10     391.00   \n",
      "\n",
      "   Last Price  Close Price  Average Price  Total Traded Quantity  \\\n",
      "0      411.30       411.20         409.83                8344787   \n",
      "1      408.50       409.15         411.06                4888736   \n",
      "2      407.10       406.70         408.54                5978390   \n",
      "3      402.25       401.45         404.31                6580621   \n",
      "4      393.50       393.85         394.69               11164177   \n",
      "\n",
      "       Turnover  No. of Trades  Deliverable Qty  % Dly Qt to Traded Qty  \n",
      "0  3.419966e+09         149773          3180553                   38.11  \n",
      "1  2.009586e+09          94683          1823478                   37.30  \n",
      "2  2.442428e+09         129671          2853190                   47.73  \n",
      "3  2.660621e+09         120492          3290630                   50.00  \n",
      "4  4.406355e+09         224422          4709925                   42.19  \n"
     ]
    }
   ],
   "source": [
    "import numpy as np\n",
    "import pandas as pd\n",
    "import sklearn \n",
    "import matplotlib.pyplot as plt\n",
    "\n",
    "df = pd.read_csv('data_wipro.csv')\n",
    "print(df.head(5))"
   ]
  },
  {
   "cell_type": "code",
   "execution_count": 6,
   "id": "5943520b",
   "metadata": {},
   "outputs": [
    {
     "name": "stdout",
     "output_type": "stream",
     "text": [
      "<class 'pandas.core.frame.DataFrame'>\n",
      "RangeIndex: 61 entries, 0 to 60\n",
      "Data columns (total 15 columns):\n",
      " #   Column                  Non-Null Count  Dtype  \n",
      "---  ------                  --------------  -----  \n",
      " 0   Symbol                  61 non-null     object \n",
      " 1   Series                  61 non-null     object \n",
      " 2   Date                    61 non-null     object \n",
      " 3   Prev Close              61 non-null     float64\n",
      " 4   Open Price              61 non-null     float64\n",
      " 5   High Price              61 non-null     float64\n",
      " 6   Low Price               61 non-null     float64\n",
      " 7   Last Price              61 non-null     float64\n",
      " 8   Close Price             61 non-null     float64\n",
      " 9   Average Price           61 non-null     float64\n",
      " 10  Total Traded Quantity   61 non-null     int64  \n",
      " 11  Turnover                61 non-null     float64\n",
      " 12  No. of Trades           61 non-null     int64  \n",
      " 13  Deliverable Qty         61 non-null     int64  \n",
      " 14  % Dly Qt to Traded Qty  61 non-null     float64\n",
      "dtypes: float64(9), int64(3), object(3)\n",
      "memory usage: 7.3+ KB\n"
     ]
    }
   ],
   "source": [
    "df.info()"
   ]
  },
  {
   "cell_type": "code",
   "execution_count": 11,
   "id": "645c9ea4",
   "metadata": {},
   "outputs": [
    {
     "name": "stdout",
     "output_type": "stream",
     "text": [
      "0    409.83\n",
      "1    411.06\n",
      "2    408.54\n",
      "3    404.31\n",
      "4    394.69\n",
      "Name: Average Price, dtype: float64\n"
     ]
    }
   ],
   "source": [
    "X = df.drop(['Series','Symbol','Date','Average Price'],axis=1)\n",
    "y=df['Average Price']\n",
    "print(y.head())\n",
    "\n"
   ]
  },
  {
   "cell_type": "code",
   "execution_count": 12,
   "id": "20fce727",
   "metadata": {},
   "outputs": [],
   "source": [
    "from sklearn.model_selection import train_test_split\n",
    "\n",
    "X_train,X_test,y_train,y_test = train_test_split(X,y,test_size=0.33,random_state=42)"
   ]
  },
  {
   "cell_type": "code",
   "execution_count": 13,
   "id": "9c9b42cb",
   "metadata": {},
   "outputs": [],
   "source": [
    "from sklearn.linear_model import LinearRegression\n",
    "lm = LinearRegression()\n",
    "lm.fit(X_train,y_train)\n",
    "pred_test = lm.predict(X_test)"
   ]
  },
  {
   "cell_type": "code",
   "execution_count": 14,
   "id": "f26ba4d2",
   "metadata": {},
   "outputs": [
    {
     "data": {
      "text/plain": [
       "Text(0, 0.5, 'predict')"
      ]
     },
     "execution_count": 14,
     "metadata": {},
     "output_type": "execute_result"
    },
    {
     "data": {
      "image/png": "[encoded data removed]",
      "text/plain": [
       "<Figure size 432x288 with 1 Axes>"
      ]
     },
     "metadata": {
      "needs_background": "light"
     },
     "output_type": "display_data"
    }
   ],
   "source": [
    "plt.scatter(y_test,pred_test,color='red')\n",
    "plt.plot(np.unique(y_test),\n",
    "        np.poly1d(np.polyfit(y_test,pred_test,1))(np.unique(y_test)),\n",
    "        linewidth=3)\n",
    "plt.xlabel('actual')\n",
    "plt.ylabel('predict')"
   ]
  },
  {
   "cell_type": "code",
   "execution_count": null,
   "id": "1d888c94",
   "metadata": {},
   "outputs": [],
   "source": []
  }
 ],
 "metadata": {
  "kernelspec": {
   "display_name": "Python 3 (ipykernel)",
   "language": "python",
   "name": "python3"
  },
  "language_info": {
   "codemirror_mode": {
    "name": "ipython",
    "version": 3
   },
   "file_extension": ".py",
   "mimetype": "text/x-python",
   "name": "python",
   "nbconvert_exporter": "python",
   "pygments_lexer": "ipython3",
   "version": "3.9.12"
  }
 },
 "nbformat": 4,
 "nbformat_minor": 5
}
